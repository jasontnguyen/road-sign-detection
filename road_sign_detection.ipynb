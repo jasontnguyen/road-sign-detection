{
 "cells": [
  {
   "cell_type": "markdown",
   "metadata": {},
   "source": [
    "# Import yolov5"
   ]
  },
  {
   "cell_type": "code",
   "execution_count": 1,
   "metadata": {},
   "outputs": [
    {
     "name": "stdout",
     "output_type": "stream",
     "text": [
      "Cloning into 'yolov5'...\n",
      "remote: Enumerating objects: 16562, done.\u001b[K\n",
      "remote: Counting objects: 100% (40/40), done.\u001b[K\n",
      "remote: Compressing objects: 100% (27/27), done.\u001b[K\n",
      "remote: Total 16562 (delta 20), reused 30 (delta 13), pack-reused 16522\u001b[K\n",
      "Receiving objects: 100% (16562/16562), 15.07 MiB | 9.54 MiB/s, done.\n",
      "Resolving deltas: 100% (11373/11373), done.\n",
      "\u001b[31mERROR: Could not open requirements file: [Errno 2] No such file or directory: 'requirements.txt'\u001b[0m\u001b[31m\n",
      "\u001b[0m"
     ]
    }
   ],
   "source": [
    "!git clone https://github.com/ultralytics/yolov5  # clone\n",
    "!cd yolov5\n",
    "!pip install -r requirements.txt  # install"
   ]
  },
  {
   "cell_type": "markdown",
   "metadata": {},
   "source": [
    "# Upload Dataset With Roboflow"
   ]
  },
  {
   "cell_type": "code",
   "execution_count": 2,
   "metadata": {},
   "outputs": [
    {
     "name": "stdout",
     "output_type": "stream",
     "text": [
      "loading Roboflow workspace...\n",
      "loading Roboflow project...\n"
     ]
    },
    {
     "name": "stderr",
     "output_type": "stream",
     "text": [
      "Downloading Dataset Version Zip in Road-Sign-Detection-1 to yolov5pytorch:: 100%|██████████| 38857/38857 [00:01<00:00, 20347.12it/s]"
     ]
    },
    {
     "name": "stdout",
     "output_type": "stream",
     "text": [
      "\n"
     ]
    },
    {
     "name": "stderr",
     "output_type": "stream",
     "text": [
      "\n",
      "Extracting Dataset Version Zip to Road-Sign-Detection-1 in yolov5pytorch:: 100%|██████████| 1762/1762 [00:00<00:00, 9095.41it/s]\n"
     ]
    }
   ],
   "source": [
    "\n",
    "\n",
    "from roboflow import Roboflow\n",
    "rf = Roboflow(api_key=\"01pTHH2bmnpCZt7AJVHX\")\n",
    "project = rf.workspace(\"ece157a-n3gce\").project(\"road-sign-detection-mwf5j\")\n",
    "version = project.version(1)\n",
    "dataset = version.download(\"yolov5\")\n",
    "\n",
    "\n"
   ]
  },
  {
   "cell_type": "code",
   "execution_count": 8,
   "metadata": {},
   "outputs": [
    {
     "name": "stderr",
     "output_type": "stream",
     "text": [
      "UsageError: Line magic function `%python` not found (But cell magic `%%python` exists, did you mean that instead?).\n"
     ]
    }
   ],
   "source": [
    "# Train YOLOv5s on our dataset for at least 10 epochs (the default we provide is 50 epochs!)\n",
    "# TODO: change the data.yaml path with your dataset name\n",
    "%python yolov5/train.py --img 640 --batch 16 --epochs 50 --data yolov5/Crescent-Gap-Detection-2/data.yaml --weights yolov5s.pt"
   ]
  }
 ],
 "metadata": {
  "kernelspec": {
   "display_name": "Python 3",
   "language": "python",
   "name": "python3"
  },
  "language_info": {
   "codemirror_mode": {
    "name": "ipython",
    "version": 3
   },
   "file_extension": ".py",
   "mimetype": "text/x-python",
   "name": "python",
   "nbconvert_exporter": "python",
   "pygments_lexer": "ipython3",
   "version": "3.12.0"
  }
 },
 "nbformat": 4,
 "nbformat_minor": 2
}
